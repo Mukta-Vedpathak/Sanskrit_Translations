{
 "cells": [
  {
   "cell_type": "code",
   "execution_count": 21,
   "id": "7e662a96-4137-46de-9618-4b1341a602d8",
   "metadata": {},
   "outputs": [],
   "source": [
    "from bs4 import BeautifulSoup as bs\n",
    "import requests\n",
    "import re"
   ]
  },
  {
   "cell_type": "code",
   "execution_count": 22,
   "id": "9fe2e6b0-6c68-4969-a068-5a42b04aa24d",
   "metadata": {},
   "outputs": [],
   "source": [
    "url=\"https://sanskritdocuments.org/mirrors/rigveda/e-text.htm\"\n",
    "headers={'User-Agent': 'Mozilla/5.0 (Windows; U; Windows NT 5.1; en-US; rv:1.9.0.7) Gecko/2009021910 Firefox/3.0.7'}\n",
    "page=requests.get(url,headers=headers)\n",
    "soup=bs(page.content,'html.parser')\n",
    "urls=soup.blockquote.blockquote.find_all('a')\n",
    "reqlinks=[]"
   ]
  },
  {
   "cell_type": "code",
   "execution_count": 23,
   "id": "2dad1a74-af0e-43ea-bdf5-08b41a722b14",
   "metadata": {},
   "outputs": [],
   "source": [
    "i=0\n",
    "for url in urls:\n",
    "  p=url.get('href')\n",
    "  if (p.endswith('htm') or p.endswith('html')) and 'noaccent' not in p:\n",
    "    reqlinks.append(url.get('href'))\n",
    "    i+=1"
   ]
  },
  {
   "cell_type": "code",
   "execution_count": 24,
   "id": "79978fa5-fd69-4cf8-92d5-12680aeb2ca1",
   "metadata": {},
   "outputs": [],
   "source": [
    "def clean_sanskrit_text(text):\n",
    "    pattern = re.compile(r'[\\u0951\\u0952]|\\d|[^\\u0900-\\u0963\\u0966-\\u097F\\uA8E0-\\uA8FF\\u1CD0-\\u1CFF\\u0300-\\u036F\\uA830-\\uA83F\\u0020\\u000D\\s\\r\\n]');\n",
    "    return pattern.sub('', text)"
   ]
  },
  {
   "cell_type": "code",
   "execution_count": 25,
   "id": "3ba0f63f-4fff-4dec-9b60-411d3f0c17a2",
   "metadata": {},
   "outputs": [],
   "source": [
    "# file1=open('english.txt','w',encoding='utf-8')\n",
    "file2=open('sanskrit.txt','w',encoding='utf-8')"
   ]
  },
  {
   "cell_type": "code",
   "execution_count": 26,
   "id": "059985ca-f478-47d2-982a-bc80ede822ec",
   "metadata": {
    "scrolled": true
   },
   "outputs": [],
   "source": [
    "for i in range(len(reqlinks)):\n",
    "    r=reqlinks[i]\n",
    "    u=\"https://sanskritdocuments.org/mirrors/rigveda/\"+r\n",
    "    page=requests.get(u,headers=headers)\n",
    "    soup=bs(page.content,'html.parser')\n",
    "    text=soup.get_text()\n",
    "    text_cleaned = clean_sanskrit_text(text)\n",
    "    # if i%2==0:\n",
    "      # file1.write(text)\n",
    "    # else:\n",
    "    if i%2!=0:\n",
    "       file2.write(text_cleaned + '\\n')"
   ]
  },
  {
   "cell_type": "code",
   "execution_count": 27,
   "id": "7e995ed3-bcd0-417a-83ff-bba03df0d375",
   "metadata": {},
   "outputs": [],
   "source": [
    "# file1.close()\n",
    "file2.close()"
   ]
  }
 ],
 "metadata": {
  "kernelspec": {
   "display_name": "Python 3 (ipykernel)",
   "language": "python",
   "name": "python3"
  },
  "language_info": {
   "codemirror_mode": {
    "name": "ipython",
    "version": 3
   },
   "file_extension": ".py",
   "mimetype": "text/x-python",
   "name": "python",
   "nbconvert_exporter": "python",
   "pygments_lexer": "ipython3",
   "version": "3.10.12"
  }
 },
 "nbformat": 4,
 "nbformat_minor": 5
}
